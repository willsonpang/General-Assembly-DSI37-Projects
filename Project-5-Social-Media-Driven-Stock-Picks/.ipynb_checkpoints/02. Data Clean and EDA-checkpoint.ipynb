{
 "cells": [
  {
   "cell_type": "code",
   "execution_count": 2,
   "metadata": {},
   "outputs": [],
   "source": [
    "import pandas as pd\n",
    "import numpy as np\n",
    "import matplotlib.pyplot as plt\n",
    "import seaborn as sns\n",
    "# from pmaw import PushshiftAPI\n",
    "import datetime as dt\n",
    "import os\n",
    "import ipywidgets as widgets\n",
    "import requests\n",
    "import random\n",
    "import time\n",
    "# Importing encoders\n",
    "from sklearn.preprocessing import LabelEncoder, StandardScaler\n",
    "\n",
    "# pd.set_option('max_colwidth', 500)\n",
    "# pd.set_option('max_column', 50)"
   ]
  },
  {
   "cell_type": "markdown",
   "metadata": {},
   "source": [
    "# Data Import & Cleaning"
   ]
  },
  {
   "cell_type": "code",
   "execution_count": 3,
   "metadata": {},
   "outputs": [],
   "source": [
    "current_directory = os.getcwd()\n",
    "file_path = os.path.join(current_directory, '../data/wallstreetbets_top_test.csv')\n",
    "df_wsb = pd.read_csv(file_path)\n",
    "file_path2 = os.path.join(current_directory, '../data/investing_top_test.csv')\n",
    "df_invt = pd.read_csv(file_path2)"
   ]
  },
  {
   "cell_type": "code",
   "execution_count": 4,
   "metadata": {},
   "outputs": [
    {
     "name": "stdout",
     "output_type": "stream",
     "text": [
      "<class 'pandas.core.frame.DataFrame'>\n",
      "RangeIndex: 940 entries, 0 to 939\n",
      "Data columns (total 10 columns):\n",
      " #   Column            Non-Null Count  Dtype  \n",
      "---  ------            --------------  -----  \n",
      " 0   Unnamed: 0        940 non-null    int64  \n",
      " 1   Title             940 non-null    object \n",
      " 2   Post Text         103 non-null    object \n",
      " 3   ID                940 non-null    object \n",
      " 4   Score             940 non-null    int64  \n",
      " 5   Upvote Ratio      940 non-null    float64\n",
      " 6   Total Comments    940 non-null    int64  \n",
      " 7   Created On        940 non-null    object \n",
      " 8   Post URL          940 non-null    object \n",
      " 9   Original Content  940 non-null    bool   \n",
      "dtypes: bool(1), float64(1), int64(3), object(5)\n",
      "memory usage: 67.1+ KB\n"
     ]
    },
    {
     "data": {
      "text/html": [
       "<div>\n",
       "<style scoped>\n",
       "    .dataframe tbody tr th:only-of-type {\n",
       "        vertical-align: middle;\n",
       "    }\n",
       "\n",
       "    .dataframe tbody tr th {\n",
       "        vertical-align: top;\n",
       "    }\n",
       "\n",
       "    .dataframe thead th {\n",
       "        text-align: right;\n",
       "    }\n",
       "</style>\n",
       "<table border=\"1\" class=\"dataframe\">\n",
       "  <thead>\n",
       "    <tr style=\"text-align: right;\">\n",
       "      <th></th>\n",
       "      <th>Unnamed: 0</th>\n",
       "      <th>Title</th>\n",
       "      <th>Post Text</th>\n",
       "      <th>ID</th>\n",
       "      <th>Score</th>\n",
       "      <th>Upvote Ratio</th>\n",
       "      <th>Total Comments</th>\n",
       "      <th>Created On</th>\n",
       "      <th>Post URL</th>\n",
       "      <th>Original Content</th>\n",
       "    </tr>\n",
       "  </thead>\n",
       "  <tbody>\n",
       "    <tr>\n",
       "      <th>0</th>\n",
       "      <td>0</td>\n",
       "      <td>Times Square right now</td>\n",
       "      <td>NaN</td>\n",
       "      <td>l8rf4k</td>\n",
       "      <td>479217</td>\n",
       "      <td>0.99</td>\n",
       "      <td>13884</td>\n",
       "      <td>2021-01-30 18:00:38</td>\n",
       "      <td>https://v.redd.it/x64z70f7eie61</td>\n",
       "      <td>False</td>\n",
       "    </tr>\n",
       "    <tr>\n",
       "      <th>1</th>\n",
       "      <td>1</td>\n",
       "      <td>UPVOTE so everyone sees we got SUPPORT</td>\n",
       "      <td>NaN</td>\n",
       "      <td>l6wu59</td>\n",
       "      <td>335468</td>\n",
       "      <td>0.98</td>\n",
       "      <td>12896</td>\n",
       "      <td>2021-01-28 13:40:34</td>\n",
       "      <td>https://i.redd.it/sgoqy8nyt2e61.png</td>\n",
       "      <td>False</td>\n",
       "    </tr>\n",
       "    <tr>\n",
       "      <th>2</th>\n",
       "      <td>2</td>\n",
       "      <td>GME YOLO update — Jan 28 2021</td>\n",
       "      <td>NaN</td>\n",
       "      <td>l78uct</td>\n",
       "      <td>296778</td>\n",
       "      <td>0.98</td>\n",
       "      <td>23166</td>\n",
       "      <td>2021-01-28 21:06:23</td>\n",
       "      <td>https://i.redd.it/opzucppb15e61.png</td>\n",
       "      <td>False</td>\n",
       "    </tr>\n",
       "    <tr>\n",
       "      <th>3</th>\n",
       "      <td>3</td>\n",
       "      <td>GME YOLO month-end update — Jan 2021</td>\n",
       "      <td>NaN</td>\n",
       "      <td>l846a1</td>\n",
       "      <td>262028</td>\n",
       "      <td>0.97</td>\n",
       "      <td>20063</td>\n",
       "      <td>2021-01-29 21:04:45</td>\n",
       "      <td>https://i.redd.it/r557em3t5ce61.png</td>\n",
       "      <td>False</td>\n",
       "    </tr>\n",
       "    <tr>\n",
       "      <th>4</th>\n",
       "      <td>4</td>\n",
       "      <td>It’s treason then</td>\n",
       "      <td>NaN</td>\n",
       "      <td>l881ia</td>\n",
       "      <td>243637</td>\n",
       "      <td>0.98</td>\n",
       "      <td>4622</td>\n",
       "      <td>2021-01-29 23:40:59</td>\n",
       "      <td>https://i.redd.it/d3t66lv1yce61.jpg</td>\n",
       "      <td>False</td>\n",
       "    </tr>\n",
       "  </tbody>\n",
       "</table>\n",
       "</div>"
      ],
      "text/plain": [
       "   Unnamed: 0                                   Title Post Text      ID  \\\n",
       "0           0                  Times Square right now       NaN  l8rf4k   \n",
       "1           1  UPVOTE so everyone sees we got SUPPORT       NaN  l6wu59   \n",
       "2           2           GME YOLO update — Jan 28 2021       NaN  l78uct   \n",
       "3           3    GME YOLO month-end update — Jan 2021       NaN  l846a1   \n",
       "4           4                       It’s treason then       NaN  l881ia   \n",
       "\n",
       "    Score  Upvote Ratio  Total Comments           Created On  \\\n",
       "0  479217          0.99           13884  2021-01-30 18:00:38   \n",
       "1  335468          0.98           12896  2021-01-28 13:40:34   \n",
       "2  296778          0.98           23166  2021-01-28 21:06:23   \n",
       "3  262028          0.97           20063  2021-01-29 21:04:45   \n",
       "4  243637          0.98            4622  2021-01-29 23:40:59   \n",
       "\n",
       "                              Post URL  Original Content  \n",
       "0      https://v.redd.it/x64z70f7eie61             False  \n",
       "1  https://i.redd.it/sgoqy8nyt2e61.png             False  \n",
       "2  https://i.redd.it/opzucppb15e61.png             False  \n",
       "3  https://i.redd.it/r557em3t5ce61.png             False  \n",
       "4  https://i.redd.it/d3t66lv1yce61.jpg             False  "
      ]
     },
     "execution_count": 4,
     "metadata": {},
     "output_type": "execute_result"
    }
   ],
   "source": [
    "df_wsb.info()\n",
    "df_wsb.head()"
   ]
  },
  {
   "cell_type": "code",
   "execution_count": 5,
   "metadata": {},
   "outputs": [
    {
     "name": "stdout",
     "output_type": "stream",
     "text": [
      "<class 'pandas.core.frame.DataFrame'>\n",
      "RangeIndex: 702 entries, 0 to 701\n",
      "Data columns (total 10 columns):\n",
      " #   Column            Non-Null Count  Dtype  \n",
      "---  ------            --------------  -----  \n",
      " 0   Unnamed: 0        702 non-null    int64  \n",
      " 1   Title             702 non-null    object \n",
      " 2   Post Text         694 non-null    object \n",
      " 3   ID                702 non-null    object \n",
      " 4   Score             702 non-null    int64  \n",
      " 5   Upvote Ratio      702 non-null    float64\n",
      " 6   Total Comments    702 non-null    int64  \n",
      " 7   Created On        702 non-null    object \n",
      " 8   Post URL          702 non-null    object \n",
      " 9   Original Content  702 non-null    bool   \n",
      "dtypes: bool(1), float64(1), int64(3), object(5)\n",
      "memory usage: 50.2+ KB\n"
     ]
    },
    {
     "data": {
      "text/html": [
       "<div>\n",
       "<style scoped>\n",
       "    .dataframe tbody tr th:only-of-type {\n",
       "        vertical-align: middle;\n",
       "    }\n",
       "\n",
       "    .dataframe tbody tr th {\n",
       "        vertical-align: top;\n",
       "    }\n",
       "\n",
       "    .dataframe thead th {\n",
       "        text-align: right;\n",
       "    }\n",
       "</style>\n",
       "<table border=\"1\" class=\"dataframe\">\n",
       "  <thead>\n",
       "    <tr style=\"text-align: right;\">\n",
       "      <th></th>\n",
       "      <th>Unnamed: 0</th>\n",
       "      <th>Title</th>\n",
       "      <th>Post Text</th>\n",
       "      <th>ID</th>\n",
       "      <th>Score</th>\n",
       "      <th>Upvote Ratio</th>\n",
       "      <th>Total Comments</th>\n",
       "      <th>Created On</th>\n",
       "      <th>Post URL</th>\n",
       "      <th>Original Content</th>\n",
       "    </tr>\n",
       "  </thead>\n",
       "  <tbody>\n",
       "    <tr>\n",
       "      <th>0</th>\n",
       "      <td>0</td>\n",
       "      <td>Robinhood and other brokers literally blocking...</td>\n",
       "      <td>See title. Can't buy these stocks on RH, but c...</td>\n",
       "      <td>l6wvia</td>\n",
       "      <td>26954</td>\n",
       "      <td>0.99</td>\n",
       "      <td>5416</td>\n",
       "      <td>2021-01-28 13:42:17</td>\n",
       "      <td>https://www.reddit.com/r/investing/comments/l6...</td>\n",
       "      <td>False</td>\n",
       "    </tr>\n",
       "    <tr>\n",
       "      <th>1</th>\n",
       "      <td>1</td>\n",
       "      <td>Historically it's way better to invest at mark...</td>\n",
       "      <td>Found this 2018 article, interesting/fun fact:...</td>\n",
       "      <td>lhtodm</td>\n",
       "      <td>9349</td>\n",
       "      <td>0.98</td>\n",
       "      <td>707</td>\n",
       "      <td>2021-02-11 20:19:14</td>\n",
       "      <td>https://www.reddit.com/r/investing/comments/lh...</td>\n",
       "      <td>False</td>\n",
       "    </tr>\n",
       "    <tr>\n",
       "      <th>2</th>\n",
       "      <td>2</td>\n",
       "      <td>Jim Cramer Gave an Interview in 2006 on how th...</td>\n",
       "      <td>[https://www.reuters.com/article/cramer-interv...</td>\n",
       "      <td>l92fz7</td>\n",
       "      <td>9185</td>\n",
       "      <td>0.99</td>\n",
       "      <td>745</td>\n",
       "      <td>2021-01-31 02:36:58</td>\n",
       "      <td>https://www.reddit.com/r/investing/comments/l9...</td>\n",
       "      <td>False</td>\n",
       "    </tr>\n",
       "    <tr>\n",
       "      <th>3</th>\n",
       "      <td>3</td>\n",
       "      <td>Emotional involvement has never been this high...</td>\n",
       "      <td>First of all, I can't wait to be berated in th...</td>\n",
       "      <td>la3bft</td>\n",
       "      <td>8077</td>\n",
       "      <td>0.88</td>\n",
       "      <td>2434</td>\n",
       "      <td>2021-02-01 13:42:51</td>\n",
       "      <td>https://www.reddit.com/r/investing/comments/la...</td>\n",
       "      <td>False</td>\n",
       "    </tr>\n",
       "    <tr>\n",
       "      <th>4</th>\n",
       "      <td>4</td>\n",
       "      <td>By popular demand: official “I hate Robinhood ...</td>\n",
       "      <td>Honestly, I didn’t want to post this myself si...</td>\n",
       "      <td>l8nntv</td>\n",
       "      <td>7266</td>\n",
       "      <td>0.98</td>\n",
       "      <td>1947</td>\n",
       "      <td>2021-01-30 15:12:48</td>\n",
       "      <td>https://www.reddit.com/r/investing/comments/l8...</td>\n",
       "      <td>False</td>\n",
       "    </tr>\n",
       "  </tbody>\n",
       "</table>\n",
       "</div>"
      ],
      "text/plain": [
       "   Unnamed: 0                                              Title  \\\n",
       "0           0  Robinhood and other brokers literally blocking...   \n",
       "1           1  Historically it's way better to invest at mark...   \n",
       "2           2  Jim Cramer Gave an Interview in 2006 on how th...   \n",
       "3           3  Emotional involvement has never been this high...   \n",
       "4           4  By popular demand: official “I hate Robinhood ...   \n",
       "\n",
       "                                           Post Text      ID  Score  \\\n",
       "0  See title. Can't buy these stocks on RH, but c...  l6wvia  26954   \n",
       "1  Found this 2018 article, interesting/fun fact:...  lhtodm   9349   \n",
       "2  [https://www.reuters.com/article/cramer-interv...  l92fz7   9185   \n",
       "3  First of all, I can't wait to be berated in th...  la3bft   8077   \n",
       "4  Honestly, I didn’t want to post this myself si...  l8nntv   7266   \n",
       "\n",
       "   Upvote Ratio  Total Comments           Created On  \\\n",
       "0          0.99            5416  2021-01-28 13:42:17   \n",
       "1          0.98             707  2021-02-11 20:19:14   \n",
       "2          0.99             745  2021-01-31 02:36:58   \n",
       "3          0.88            2434  2021-02-01 13:42:51   \n",
       "4          0.98            1947  2021-01-30 15:12:48   \n",
       "\n",
       "                                            Post URL  Original Content  \n",
       "0  https://www.reddit.com/r/investing/comments/l6...             False  \n",
       "1  https://www.reddit.com/r/investing/comments/lh...             False  \n",
       "2  https://www.reddit.com/r/investing/comments/l9...             False  \n",
       "3  https://www.reddit.com/r/investing/comments/la...             False  \n",
       "4  https://www.reddit.com/r/investing/comments/l8...             False  "
      ]
     },
     "execution_count": 5,
     "metadata": {},
     "output_type": "execute_result"
    }
   ],
   "source": [
    "df_invt.info()\n",
    "df_invt.head()"
   ]
  },
  {
   "cell_type": "code",
   "execution_count": 9,
   "metadata": {},
   "outputs": [
    {
     "data": {
      "text/plain": [
       "['Unnamed: 0',\n",
       " 'Title',\n",
       " 'Post Text',\n",
       " 'ID',\n",
       " 'Score',\n",
       " 'Upvote Ratio',\n",
       " 'Total Comments',\n",
       " 'Created On',\n",
       " 'Post URL',\n",
       " 'Original Content']"
      ]
     },
     "execution_count": 9,
     "metadata": {},
     "output_type": "execute_result"
    }
   ],
   "source": [
    "df_wsb.columns.tolist()"
   ]
  },
  {
   "cell_type": "code",
   "execution_count": null,
   "metadata": {},
   "outputs": [],
   "source": [
    "print(df_wsb[df_wsb.duplicated()])"
   ]
  },
  {
   "cell_type": "code",
   "execution_count": null,
   "metadata": {},
   "outputs": [],
   "source": [
    "print(df_invt[df_invt.duplicated()])"
   ]
  },
  {
   "cell_type": "code",
   "execution_count": null,
   "metadata": {},
   "outputs": [],
   "source": [
    "df_wsb.isnull().sum().sort_values(ascending = False)"
   ]
  },
  {
   "cell_type": "markdown",
   "metadata": {},
   "source": [
    "This amount of null values in the post text is normal as the community of r/wallstreetbets tend to post memes and images rather than texts as their post"
   ]
  },
  {
   "cell_type": "code",
   "execution_count": null,
   "metadata": {},
   "outputs": [],
   "source": [
    "df_invt.isnull().sum().sort_values(ascending = False)"
   ]
  },
  {
   "cell_type": "markdown",
   "metadata": {},
   "source": [
    "r/investing on the other hand seems to have significantly less amount of null values in their post text as the coommunity are more technically savvy and are more serious in terms of investing in comparison to r/wallstreetbets.\n",
    "\n",
    "As such, for r/wallstreetbets, we shall drop the 'Post Text' column. Whereas for r/investing, we will only drop the rows with null values"
   ]
  },
  {
   "cell_type": "code",
   "execution_count": null,
   "metadata": {},
   "outputs": [],
   "source": [
    "# Drop the entire 'Post Text' and the 'Unnamed: 0 ' column from df_wsb\n",
    "df_wsb = df_wsb.drop(['Post Text', 'Unnamed: 0'], axis = 1)\n",
    "\n",
    "# Adds in a column to indicate which subreddit the entry belongs to\n",
    "df_wsb['Subreddit'] = 'wallstreetbets'\n",
    "\n",
    "df_wsb = df_wsb.rename(columns = {'Title': 'Post'})"
   ]
  },
  {
   "cell_type": "code",
   "execution_count": null,
   "metadata": {},
   "outputs": [],
   "source": [
    "# Drop the rows with null values for r.invt\n",
    "df_invt = df_invt.dropna()\n",
    "\n",
    "# Drop the 'Unnamed: 0' column from df_invt \n",
    "df_invt = df_invt.drop('Unnamed: 0', axis = 1)\n",
    "\n",
    "# Adds in a column to indicate which subreddit the entry belongs to\n",
    "df_invt['Subreddit'] = 'investing'\n",
    "\n",
    "# We will also be merging df_invt 'Title' and 'Post Text' together\n",
    "df_invt['New Title'] = df_invt['Title'] + '. ' + df_invt['Post Text']\n",
    "\n",
    "df_invt = df_invt.drop(['Title', 'Post Text'], axis = 1)\n",
    "\n",
    "df_invt = df_invt.rename(columns = {'New Title': 'Post'})\n"
   ]
  },
  {
   "cell_type": "code",
   "execution_count": null,
   "metadata": {},
   "outputs": [],
   "source": [
    "df_invt.isnull().sum().sort_values(ascending = False)"
   ]
  },
  {
   "cell_type": "code",
   "execution_count": null,
   "metadata": {},
   "outputs": [],
   "source": [
    "df_wsb.head()"
   ]
  },
  {
   "cell_type": "code",
   "execution_count": null,
   "metadata": {},
   "outputs": [],
   "source": [
    "entry = df_invt.loc[0, 'Post']\n",
    "print(entry)"
   ]
  },
  {
   "cell_type": "code",
   "execution_count": null,
   "metadata": {},
   "outputs": [],
   "source": [
    "rtl_inv_df = pd.concat([df_wsb[['Post', 'Subreddit']], df_invt[['Post', 'Subreddit']]]).reset_index(drop = True)"
   ]
  },
  {
   "cell_type": "code",
   "execution_count": null,
   "metadata": {},
   "outputs": [],
   "source": [
    "rtl_inv_df.info()"
   ]
  },
  {
   "cell_type": "code",
   "execution_count": null,
   "metadata": {},
   "outputs": [],
   "source": [
    "rtl_inv_df.tail()"
   ]
  },
  {
   "cell_type": "markdown",
   "metadata": {},
   "source": [
    "Retail Investor Dataframe is saved as rtl_inv_df, which we will be using for the rest of this work"
   ]
  },
  {
   "cell_type": "code",
   "execution_count": null,
   "metadata": {},
   "outputs": [],
   "source": [
    "rtl_inv_df.groupby('Subreddit').count()"
   ]
  },
  {
   "cell_type": "code",
   "execution_count": null,
   "metadata": {},
   "outputs": [],
   "source": [
    "vc = rtl_inv_df['Post'].value_counts()\n",
    "vc[vc>1]"
   ]
  },
  {
   "cell_type": "code",
   "execution_count": null,
   "metadata": {},
   "outputs": [],
   "source": [
    "print(rtl_inv_df[rtl_inv_df.duplicated()])"
   ]
  },
  {
   "cell_type": "code",
   "execution_count": null,
   "metadata": {},
   "outputs": [],
   "source": [
    "rtl_inv_df = rtl_inv_df.drop_duplicates()"
   ]
  },
  {
   "cell_type": "code",
   "execution_count": null,
   "metadata": {},
   "outputs": [],
   "source": [
    "print(rtl_inv_df[rtl_inv_df.duplicated()])"
   ]
  },
  {
   "cell_type": "markdown",
   "metadata": {},
   "source": [
    "Duplicated rows are now removed"
   ]
  },
  {
   "cell_type": "markdown",
   "metadata": {},
   "source": [
    "# Feature Engineering\n",
    "\n",
    "We will set the 'Subreddit' column into:\n",
    "\n",
    "0: r/investing\n",
    "1: r/wallstreetbets"
   ]
  },
  {
   "cell_type": "code",
   "execution_count": null,
   "metadata": {},
   "outputs": [],
   "source": [
    "# Create a LabelEncoder object\n",
    "label_encoder = LabelEncoder()\n",
    "\n",
    "# Sieve out the columns which we want to apply label encoding on\n",
    "rtl_inv_df['Subreddit'] = label_encoder.fit_transform(sitcome_df['Subreddit'])"
   ]
  },
  {
   "cell_type": "code",
   "execution_count": null,
   "metadata": {},
   "outputs": [],
   "source": []
  }
 ],
 "metadata": {
  "kernelspec": {
   "display_name": "Python 3 (ipykernel)",
   "language": "python",
   "name": "python3"
  },
  "language_info": {
   "codemirror_mode": {
    "name": "ipython",
    "version": 3
   },
   "file_extension": ".py",
   "mimetype": "text/x-python",
   "name": "python",
   "nbconvert_exporter": "python",
   "pygments_lexer": "ipython3",
   "version": "3.10.9"
  }
 },
 "nbformat": 4,
 "nbformat_minor": 2
}
