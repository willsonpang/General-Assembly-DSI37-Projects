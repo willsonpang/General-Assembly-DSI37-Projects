{
 "cells": [
  {
   "cell_type": "code",
   "execution_count": 159,
   "metadata": {},
   "outputs": [],
   "source": [
    "import pandas as pd\n",
    "import numpy as np\n",
    "import matplotlib.pyplot as plt\n",
    "import seaborn as sns\n",
    "import datetime as dt\n",
    "import os\n",
    "import ipywidgets as widgets\n",
    "import requests\n",
    "import random\n",
    "import time\n",
    "import matplotlib.dates as mdates\n",
    "import itertools\n",
    "\n",
    "# Importing encoders\n",
    "from sklearn.preprocessing import LabelEncoder, StandardScaler\n",
    "from sklearn.model_selection import train_test_split\n",
    "\n",
    "# Import for string manipulation\n",
    "import nltk\n",
    "import string\n",
    "import re\n",
    "\n",
    "\n",
    "# Time Series Imports\n",
    "from statsmodels.tsa.api import ExponentialSmoothing, SimpleExpSmoothing, Holt\n",
    "from statsmodels.tsa.stattools import adfuller\n",
    "from statsmodels.tsa.seasonal import seasonal_decompose\n",
    "from statsmodels.tsa.stattools import acf, pacf\n",
    "import statsmodels.api as sm\n",
    "from statsmodels.tsa.arima.model import ARIMA\n",
    "from statsmodels.tsa.statespace.sarimax import SARIMAX\n",
    "import pmdarima as pm\n",
    "\n",
    "\n",
    "# To increase the visible rows & cols\n",
    "pd.options.display.max_rows = 2500\n",
    "pd.options.display.max_columns = 15000"
   ]
  },
  {
   "cell_type": "markdown",
   "metadata": {},
   "source": [
    "# Data Import & Cleaning"
   ]
  },
  {
   "cell_type": "code",
   "execution_count": 160,
   "metadata": {},
   "outputs": [],
   "source": [
    "current_directory = os.getcwd()\n",
    "file_path = os.path.join(current_directory, '../data/wallstreetbets_top_test.csv')\n",
    "df_wsb = pd.read_csv(file_path)\n",
    "file_path2 = os.path.join(current_directory, '../data/investing_top_test.csv')\n",
    "df_invt = pd.read_csv(file_path2)\n",
    "\n",
    "# List of companies trading in NYSE and NASDAQ\n",
    "nyse_df = pd.read_csv('../data/nyse_screener.csv')\n",
    "nasdaq_df = pd.read_csv('../data/nasdaq_screener.csv')"
   ]
  },
  {
   "cell_type": "code",
   "execution_count": 161,
   "metadata": {},
   "outputs": [],
   "source": [
    "# Select only 'Symbol' and 'Name from both stockmarket dataframe\n",
    "nyse_subset = nyse_df[['Symbol', 'Name']]\n",
    "nasdaq_subset = nasdaq_df[['Symbol', 'Name']]\n",
    "\n",
    "# Concatenate the subsets\n",
    "stockmarket_df = pd.concat([nyse_subset, nasdaq_subset], ignore_index= True)"
   ]
  },
  {
   "cell_type": "code",
   "execution_count": 162,
   "metadata": {},
   "outputs": [
    {
     "data": {
      "text/html": [
       "<div>\n",
       "<style scoped>\n",
       "    .dataframe tbody tr th:only-of-type {\n",
       "        vertical-align: middle;\n",
       "    }\n",
       "\n",
       "    .dataframe tbody tr th {\n",
       "        vertical-align: top;\n",
       "    }\n",
       "\n",
       "    .dataframe thead th {\n",
       "        text-align: right;\n",
       "    }\n",
       "</style>\n",
       "<table border=\"1\" class=\"dataframe\">\n",
       "  <thead>\n",
       "    <tr style=\"text-align: right;\">\n",
       "      <th></th>\n",
       "      <th>Symbol</th>\n",
       "      <th>Name</th>\n",
       "    </tr>\n",
       "  </thead>\n",
       "  <tbody>\n",
       "    <tr>\n",
       "      <th>7301</th>\n",
       "      <td>ZVRA</td>\n",
       "      <td>Zevra Therapeutics Inc. Common Stock</td>\n",
       "    </tr>\n",
       "    <tr>\n",
       "      <th>7302</th>\n",
       "      <td>ZVSA</td>\n",
       "      <td>ZyVersa Therapeutics Inc. Common Stock</td>\n",
       "    </tr>\n",
       "    <tr>\n",
       "      <th>7303</th>\n",
       "      <td>ZYME</td>\n",
       "      <td>Zymeworks Inc. Common Stock</td>\n",
       "    </tr>\n",
       "    <tr>\n",
       "      <th>7304</th>\n",
       "      <td>ZYNE</td>\n",
       "      <td>Zynerba Pharmaceuticals Inc. Common Stock</td>\n",
       "    </tr>\n",
       "    <tr>\n",
       "      <th>7305</th>\n",
       "      <td>ZYXI</td>\n",
       "      <td>Zynex Inc. Common Stock</td>\n",
       "    </tr>\n",
       "  </tbody>\n",
       "</table>\n",
       "</div>"
      ],
      "text/plain": [
       "     Symbol                                       Name\n",
       "7301   ZVRA       Zevra Therapeutics Inc. Common Stock\n",
       "7302   ZVSA     ZyVersa Therapeutics Inc. Common Stock\n",
       "7303   ZYME                Zymeworks Inc. Common Stock\n",
       "7304   ZYNE  Zynerba Pharmaceuticals Inc. Common Stock\n",
       "7305   ZYXI                    Zynex Inc. Common Stock"
      ]
     },
     "execution_count": 162,
     "metadata": {},
     "output_type": "execute_result"
    }
   ],
   "source": [
    "stockmarket_df.tail()"
   ]
  },
  {
   "cell_type": "code",
   "execution_count": 163,
   "metadata": {},
   "outputs": [
    {
     "name": "stdout",
     "output_type": "stream",
     "text": [
      "<class 'pandas.core.frame.DataFrame'>\n",
      "RangeIndex: 940 entries, 0 to 939\n",
      "Data columns (total 10 columns):\n",
      " #   Column            Non-Null Count  Dtype  \n",
      "---  ------            --------------  -----  \n",
      " 0   Unnamed: 0        940 non-null    int64  \n",
      " 1   Title             940 non-null    object \n",
      " 2   Post Text         103 non-null    object \n",
      " 3   ID                940 non-null    object \n",
      " 4   Score             940 non-null    int64  \n",
      " 5   Upvote Ratio      940 non-null    float64\n",
      " 6   Total Comments    940 non-null    int64  \n",
      " 7   Created On        940 non-null    object \n",
      " 8   Post URL          940 non-null    object \n",
      " 9   Original Content  940 non-null    bool   \n",
      "dtypes: bool(1), float64(1), int64(3), object(5)\n",
      "memory usage: 67.1+ KB\n"
     ]
    },
    {
     "data": {
      "text/html": [
       "<div>\n",
       "<style scoped>\n",
       "    .dataframe tbody tr th:only-of-type {\n",
       "        vertical-align: middle;\n",
       "    }\n",
       "\n",
       "    .dataframe tbody tr th {\n",
       "        vertical-align: top;\n",
       "    }\n",
       "\n",
       "    .dataframe thead th {\n",
       "        text-align: right;\n",
       "    }\n",
       "</style>\n",
       "<table border=\"1\" class=\"dataframe\">\n",
       "  <thead>\n",
       "    <tr style=\"text-align: right;\">\n",
       "      <th></th>\n",
       "      <th>Unnamed: 0</th>\n",
       "      <th>Title</th>\n",
       "      <th>Post Text</th>\n",
       "      <th>ID</th>\n",
       "      <th>Score</th>\n",
       "      <th>Upvote Ratio</th>\n",
       "      <th>Total Comments</th>\n",
       "      <th>Created On</th>\n",
       "      <th>Post URL</th>\n",
       "      <th>Original Content</th>\n",
       "    </tr>\n",
       "  </thead>\n",
       "  <tbody>\n",
       "    <tr>\n",
       "      <th>0</th>\n",
       "      <td>0</td>\n",
       "      <td>Times Square right now</td>\n",
       "      <td>NaN</td>\n",
       "      <td>l8rf4k</td>\n",
       "      <td>479217</td>\n",
       "      <td>0.99</td>\n",
       "      <td>13884</td>\n",
       "      <td>2021-01-30 18:00:38</td>\n",
       "      <td>https://v.redd.it/x64z70f7eie61</td>\n",
       "      <td>False</td>\n",
       "    </tr>\n",
       "    <tr>\n",
       "      <th>1</th>\n",
       "      <td>1</td>\n",
       "      <td>UPVOTE so everyone sees we got SUPPORT</td>\n",
       "      <td>NaN</td>\n",
       "      <td>l6wu59</td>\n",
       "      <td>335468</td>\n",
       "      <td>0.98</td>\n",
       "      <td>12896</td>\n",
       "      <td>2021-01-28 13:40:34</td>\n",
       "      <td>https://i.redd.it/sgoqy8nyt2e61.png</td>\n",
       "      <td>False</td>\n",
       "    </tr>\n",
       "    <tr>\n",
       "      <th>2</th>\n",
       "      <td>2</td>\n",
       "      <td>GME YOLO update — Jan 28 2021</td>\n",
       "      <td>NaN</td>\n",
       "      <td>l78uct</td>\n",
       "      <td>296778</td>\n",
       "      <td>0.98</td>\n",
       "      <td>23166</td>\n",
       "      <td>2021-01-28 21:06:23</td>\n",
       "      <td>https://i.redd.it/opzucppb15e61.png</td>\n",
       "      <td>False</td>\n",
       "    </tr>\n",
       "    <tr>\n",
       "      <th>3</th>\n",
       "      <td>3</td>\n",
       "      <td>GME YOLO month-end update — Jan 2021</td>\n",
       "      <td>NaN</td>\n",
       "      <td>l846a1</td>\n",
       "      <td>262028</td>\n",
       "      <td>0.97</td>\n",
       "      <td>20063</td>\n",
       "      <td>2021-01-29 21:04:45</td>\n",
       "      <td>https://i.redd.it/r557em3t5ce61.png</td>\n",
       "      <td>False</td>\n",
       "    </tr>\n",
       "    <tr>\n",
       "      <th>4</th>\n",
       "      <td>4</td>\n",
       "      <td>It’s treason then</td>\n",
       "      <td>NaN</td>\n",
       "      <td>l881ia</td>\n",
       "      <td>243637</td>\n",
       "      <td>0.98</td>\n",
       "      <td>4622</td>\n",
       "      <td>2021-01-29 23:40:59</td>\n",
       "      <td>https://i.redd.it/d3t66lv1yce61.jpg</td>\n",
       "      <td>False</td>\n",
       "    </tr>\n",
       "  </tbody>\n",
       "</table>\n",
       "</div>"
      ],
      "text/plain": [
       "   Unnamed: 0                                   Title Post Text      ID  \\\n",
       "0           0                  Times Square right now       NaN  l8rf4k   \n",
       "1           1  UPVOTE so everyone sees we got SUPPORT       NaN  l6wu59   \n",
       "2           2           GME YOLO update — Jan 28 2021       NaN  l78uct   \n",
       "3           3    GME YOLO month-end update — Jan 2021       NaN  l846a1   \n",
       "4           4                       It’s treason then       NaN  l881ia   \n",
       "\n",
       "    Score  Upvote Ratio  Total Comments           Created On  \\\n",
       "0  479217          0.99           13884  2021-01-30 18:00:38   \n",
       "1  335468          0.98           12896  2021-01-28 13:40:34   \n",
       "2  296778          0.98           23166  2021-01-28 21:06:23   \n",
       "3  262028          0.97           20063  2021-01-29 21:04:45   \n",
       "4  243637          0.98            4622  2021-01-29 23:40:59   \n",
       "\n",
       "                              Post URL  Original Content  \n",
       "0      https://v.redd.it/x64z70f7eie61             False  \n",
       "1  https://i.redd.it/sgoqy8nyt2e61.png             False  \n",
       "2  https://i.redd.it/opzucppb15e61.png             False  \n",
       "3  https://i.redd.it/r557em3t5ce61.png             False  \n",
       "4  https://i.redd.it/d3t66lv1yce61.jpg             False  "
      ]
     },
     "execution_count": 163,
     "metadata": {},
     "output_type": "execute_result"
    }
   ],
   "source": [
    "df_wsb.info()\n",
    "df_wsb.head()"
   ]
  },
  {
   "cell_type": "code",
   "execution_count": 164,
   "metadata": {},
   "outputs": [
    {
     "name": "stdout",
     "output_type": "stream",
     "text": [
      "<class 'pandas.core.frame.DataFrame'>\n",
      "RangeIndex: 702 entries, 0 to 701\n",
      "Data columns (total 10 columns):\n",
      " #   Column            Non-Null Count  Dtype  \n",
      "---  ------            --------------  -----  \n",
      " 0   Unnamed: 0        702 non-null    int64  \n",
      " 1   Title             702 non-null    object \n",
      " 2   Post Text         694 non-null    object \n",
      " 3   ID                702 non-null    object \n",
      " 4   Score             702 non-null    int64  \n",
      " 5   Upvote Ratio      702 non-null    float64\n",
      " 6   Total Comments    702 non-null    int64  \n",
      " 7   Created On        702 non-null    object \n",
      " 8   Post URL          702 non-null    object \n",
      " 9   Original Content  702 non-null    bool   \n",
      "dtypes: bool(1), float64(1), int64(3), object(5)\n",
      "memory usage: 50.2+ KB\n"
     ]
    },
    {
     "data": {
      "text/html": [
       "<div>\n",
       "<style scoped>\n",
       "    .dataframe tbody tr th:only-of-type {\n",
       "        vertical-align: middle;\n",
       "    }\n",
       "\n",
       "    .dataframe tbody tr th {\n",
       "        vertical-align: top;\n",
       "    }\n",
       "\n",
       "    .dataframe thead th {\n",
       "        text-align: right;\n",
       "    }\n",
       "</style>\n",
       "<table border=\"1\" class=\"dataframe\">\n",
       "  <thead>\n",
       "    <tr style=\"text-align: right;\">\n",
       "      <th></th>\n",
       "      <th>Unnamed: 0</th>\n",
       "      <th>Title</th>\n",
       "      <th>Post Text</th>\n",
       "      <th>ID</th>\n",
       "      <th>Score</th>\n",
       "      <th>Upvote Ratio</th>\n",
       "      <th>Total Comments</th>\n",
       "      <th>Created On</th>\n",
       "      <th>Post URL</th>\n",
       "      <th>Original Content</th>\n",
       "    </tr>\n",
       "  </thead>\n",
       "  <tbody>\n",
       "    <tr>\n",
       "      <th>0</th>\n",
       "      <td>0</td>\n",
       "      <td>Robinhood and other brokers literally blocking...</td>\n",
       "      <td>See title. Can't buy these stocks on RH, but c...</td>\n",
       "      <td>l6wvia</td>\n",
       "      <td>26954</td>\n",
       "      <td>0.99</td>\n",
       "      <td>5416</td>\n",
       "      <td>2021-01-28 13:42:17</td>\n",
       "      <td>https://www.reddit.com/r/investing/comments/l6...</td>\n",
       "      <td>False</td>\n",
       "    </tr>\n",
       "    <tr>\n",
       "      <th>1</th>\n",
       "      <td>1</td>\n",
       "      <td>Historically it's way better to invest at mark...</td>\n",
       "      <td>Found this 2018 article, interesting/fun fact:...</td>\n",
       "      <td>lhtodm</td>\n",
       "      <td>9349</td>\n",
       "      <td>0.98</td>\n",
       "      <td>707</td>\n",
       "      <td>2021-02-11 20:19:14</td>\n",
       "      <td>https://www.reddit.com/r/investing/comments/lh...</td>\n",
       "      <td>False</td>\n",
       "    </tr>\n",
       "    <tr>\n",
       "      <th>2</th>\n",
       "      <td>2</td>\n",
       "      <td>Jim Cramer Gave an Interview in 2006 on how th...</td>\n",
       "      <td>[https://www.reuters.com/article/cramer-interv...</td>\n",
       "      <td>l92fz7</td>\n",
       "      <td>9185</td>\n",
       "      <td>0.99</td>\n",
       "      <td>745</td>\n",
       "      <td>2021-01-31 02:36:58</td>\n",
       "      <td>https://www.reddit.com/r/investing/comments/l9...</td>\n",
       "      <td>False</td>\n",
       "    </tr>\n",
       "    <tr>\n",
       "      <th>3</th>\n",
       "      <td>3</td>\n",
       "      <td>Emotional involvement has never been this high...</td>\n",
       "      <td>First of all, I can't wait to be berated in th...</td>\n",
       "      <td>la3bft</td>\n",
       "      <td>8077</td>\n",
       "      <td>0.88</td>\n",
       "      <td>2434</td>\n",
       "      <td>2021-02-01 13:42:51</td>\n",
       "      <td>https://www.reddit.com/r/investing/comments/la...</td>\n",
       "      <td>False</td>\n",
       "    </tr>\n",
       "    <tr>\n",
       "      <th>4</th>\n",
       "      <td>4</td>\n",
       "      <td>By popular demand: official “I hate Robinhood ...</td>\n",
       "      <td>Honestly, I didn’t want to post this myself si...</td>\n",
       "      <td>l8nntv</td>\n",
       "      <td>7266</td>\n",
       "      <td>0.98</td>\n",
       "      <td>1947</td>\n",
       "      <td>2021-01-30 15:12:48</td>\n",
       "      <td>https://www.reddit.com/r/investing/comments/l8...</td>\n",
       "      <td>False</td>\n",
       "    </tr>\n",
       "  </tbody>\n",
       "</table>\n",
       "</div>"
      ],
      "text/plain": [
       "   Unnamed: 0                                              Title  \\\n",
       "0           0  Robinhood and other brokers literally blocking...   \n",
       "1           1  Historically it's way better to invest at mark...   \n",
       "2           2  Jim Cramer Gave an Interview in 2006 on how th...   \n",
       "3           3  Emotional involvement has never been this high...   \n",
       "4           4  By popular demand: official “I hate Robinhood ...   \n",
       "\n",
       "                                           Post Text      ID  Score  \\\n",
       "0  See title. Can't buy these stocks on RH, but c...  l6wvia  26954   \n",
       "1  Found this 2018 article, interesting/fun fact:...  lhtodm   9349   \n",
       "2  [https://www.reuters.com/article/cramer-interv...  l92fz7   9185   \n",
       "3  First of all, I can't wait to be berated in th...  la3bft   8077   \n",
       "4  Honestly, I didn’t want to post this myself si...  l8nntv   7266   \n",
       "\n",
       "   Upvote Ratio  Total Comments           Created On  \\\n",
       "0          0.99            5416  2021-01-28 13:42:17   \n",
       "1          0.98             707  2021-02-11 20:19:14   \n",
       "2          0.99             745  2021-01-31 02:36:58   \n",
       "3          0.88            2434  2021-02-01 13:42:51   \n",
       "4          0.98            1947  2021-01-30 15:12:48   \n",
       "\n",
       "                                            Post URL  Original Content  \n",
       "0  https://www.reddit.com/r/investing/comments/l6...             False  \n",
       "1  https://www.reddit.com/r/investing/comments/lh...             False  \n",
       "2  https://www.reddit.com/r/investing/comments/l9...             False  \n",
       "3  https://www.reddit.com/r/investing/comments/la...             False  \n",
       "4  https://www.reddit.com/r/investing/comments/l8...             False  "
      ]
     },
     "execution_count": 164,
     "metadata": {},
     "output_type": "execute_result"
    }
   ],
   "source": [
    "df_invt.info()\n",
    "df_invt.head()"
   ]
  },
  {
   "cell_type": "code",
   "execution_count": 165,
   "metadata": {},
   "outputs": [
    {
     "data": {
      "text/plain": [
       "['Unnamed: 0',\n",
       " 'Title',\n",
       " 'Post Text',\n",
       " 'ID',\n",
       " 'Score',\n",
       " 'Upvote Ratio',\n",
       " 'Total Comments',\n",
       " 'Created On',\n",
       " 'Post URL',\n",
       " 'Original Content']"
      ]
     },
     "execution_count": 165,
     "metadata": {},
     "output_type": "execute_result"
    }
   ],
   "source": [
    "df_wsb.columns.tolist()"
   ]
  },
  {
   "cell_type": "code",
   "execution_count": 166,
   "metadata": {},
   "outputs": [
    {
     "name": "stdout",
     "output_type": "stream",
     "text": [
      "Empty DataFrame\n",
      "Columns: [Unnamed: 0, Title, Post Text, ID, Score, Upvote Ratio, Total Comments, Created On, Post URL, Original Content]\n",
      "Index: []\n"
     ]
    }
   ],
   "source": [
    "print(df_wsb[df_wsb.duplicated()])"
   ]
  },
  {
   "cell_type": "code",
   "execution_count": 167,
   "metadata": {},
   "outputs": [
    {
     "name": "stdout",
     "output_type": "stream",
     "text": [
      "Empty DataFrame\n",
      "Columns: [Unnamed: 0, Title, Post Text, ID, Score, Upvote Ratio, Total Comments, Created On, Post URL, Original Content]\n",
      "Index: []\n"
     ]
    }
   ],
   "source": [
    "print(df_invt[df_invt.duplicated()])"
   ]
  },
  {
   "cell_type": "code",
   "execution_count": 168,
   "metadata": {},
   "outputs": [
    {
     "data": {
      "text/plain": [
       "Post Text           837\n",
       "Unnamed: 0            0\n",
       "Title                 0\n",
       "ID                    0\n",
       "Score                 0\n",
       "Upvote Ratio          0\n",
       "Total Comments        0\n",
       "Created On            0\n",
       "Post URL              0\n",
       "Original Content      0\n",
       "dtype: int64"
      ]
     },
     "execution_count": 168,
     "metadata": {},
     "output_type": "execute_result"
    }
   ],
   "source": [
    "df_wsb.isnull().sum().sort_values(ascending = False)"
   ]
  },
  {
   "cell_type": "markdown",
   "metadata": {},
   "source": [
    "This amount of null values in the post text is normal as the community of r/wallstreetbets tend to post memes and images rather than texts as their post"
   ]
  },
  {
   "cell_type": "code",
   "execution_count": 169,
   "metadata": {},
   "outputs": [
    {
     "data": {
      "text/plain": [
       "Post Text           8\n",
       "Unnamed: 0          0\n",
       "Title               0\n",
       "ID                  0\n",
       "Score               0\n",
       "Upvote Ratio        0\n",
       "Total Comments      0\n",
       "Created On          0\n",
       "Post URL            0\n",
       "Original Content    0\n",
       "dtype: int64"
      ]
     },
     "execution_count": 169,
     "metadata": {},
     "output_type": "execute_result"
    }
   ],
   "source": [
    "df_invt.isnull().sum().sort_values(ascending = False)"
   ]
  },
  {
   "cell_type": "markdown",
   "metadata": {},
   "source": [
    "r/investing on the other hand seems to have significantly less amount of null values in their post text as the coommunity are more technically savvy and are more serious in terms of investing in comparison to r/wallstreetbets.\n",
    "\n",
    "As such, for r/wallstreetbets, we shall drop the 'Post Text' column. Whereas for r/investing, we will only drop the rows with null values"
   ]
  },
  {
   "cell_type": "code",
   "execution_count": 170,
   "metadata": {},
   "outputs": [],
   "source": [
    "# Drop the entire 'Post Text' and the 'Unnamed: 0 ' column from df_wsb\n",
    "df_wsb = df_wsb.drop(['Post Text', 'Unnamed: 0'], axis = 1)\n",
    "\n",
    "# Adds in a column to indicate which subreddit the entry belongs to\n",
    "df_wsb['Subreddit'] = 'wallstreetbets'\n",
    "\n",
    "df_wsb = df_wsb.rename(columns = {'Title': 'Post'})"
   ]
  },
  {
   "cell_type": "code",
   "execution_count": 171,
   "metadata": {},
   "outputs": [],
   "source": [
    "# Drop the rows with null values for r.invt\n",
    "df_invt = df_invt.dropna()\n",
    "\n",
    "# Drop the 'Unnamed: 0' column from df_invt \n",
    "df_invt = df_invt.drop('Unnamed: 0', axis = 1)\n",
    "\n",
    "# Adds in a column to indicate which subreddit the entry belongs to\n",
    "df_invt['Subreddit'] = 'investing'\n",
    "\n",
    "# We will also be merging df_invt 'Title' and 'Post Text' together\n",
    "df_invt['New Title'] = df_invt['Title'] + '. ' + df_invt['Post Text']\n",
    "\n",
    "df_invt = df_invt.drop(['Title', 'Post Text'], axis = 1)\n",
    "\n",
    "df_invt = df_invt.rename(columns = {'New Title': 'Post'})\n"
   ]
  },
  {
   "cell_type": "code",
   "execution_count": 172,
   "metadata": {},
   "outputs": [
    {
     "data": {
      "text/plain": [
       "ID                  0\n",
       "Score               0\n",
       "Upvote Ratio        0\n",
       "Total Comments      0\n",
       "Created On          0\n",
       "Post URL            0\n",
       "Original Content    0\n",
       "Subreddit           0\n",
       "Post                0\n",
       "dtype: int64"
      ]
     },
     "execution_count": 172,
     "metadata": {},
     "output_type": "execute_result"
    }
   ],
   "source": [
    "df_invt.isnull().sum().sort_values(ascending = False)"
   ]
  },
  {
   "cell_type": "code",
   "execution_count": 173,
   "metadata": {},
   "outputs": [
    {
     "data": {
      "text/html": [
       "<div>\n",
       "<style scoped>\n",
       "    .dataframe tbody tr th:only-of-type {\n",
       "        vertical-align: middle;\n",
       "    }\n",
       "\n",
       "    .dataframe tbody tr th {\n",
       "        vertical-align: top;\n",
       "    }\n",
       "\n",
       "    .dataframe thead th {\n",
       "        text-align: right;\n",
       "    }\n",
       "</style>\n",
       "<table border=\"1\" class=\"dataframe\">\n",
       "  <thead>\n",
       "    <tr style=\"text-align: right;\">\n",
       "      <th></th>\n",
       "      <th>Post</th>\n",
       "      <th>ID</th>\n",
       "      <th>Score</th>\n",
       "      <th>Upvote Ratio</th>\n",
       "      <th>Total Comments</th>\n",
       "      <th>Created On</th>\n",
       "      <th>Post URL</th>\n",
       "      <th>Original Content</th>\n",
       "      <th>Subreddit</th>\n",
       "    </tr>\n",
       "  </thead>\n",
       "  <tbody>\n",
       "    <tr>\n",
       "      <th>0</th>\n",
       "      <td>Times Square right now</td>\n",
       "      <td>l8rf4k</td>\n",
       "      <td>479217</td>\n",
       "      <td>0.99</td>\n",
       "      <td>13884</td>\n",
       "      <td>2021-01-30 18:00:38</td>\n",
       "      <td>https://v.redd.it/x64z70f7eie61</td>\n",
       "      <td>False</td>\n",
       "      <td>wallstreetbets</td>\n",
       "    </tr>\n",
       "    <tr>\n",
       "      <th>1</th>\n",
       "      <td>UPVOTE so everyone sees we got SUPPORT</td>\n",
       "      <td>l6wu59</td>\n",
       "      <td>335468</td>\n",
       "      <td>0.98</td>\n",
       "      <td>12896</td>\n",
       "      <td>2021-01-28 13:40:34</td>\n",
       "      <td>https://i.redd.it/sgoqy8nyt2e61.png</td>\n",
       "      <td>False</td>\n",
       "      <td>wallstreetbets</td>\n",
       "    </tr>\n",
       "    <tr>\n",
       "      <th>2</th>\n",
       "      <td>GME YOLO update — Jan 28 2021</td>\n",
       "      <td>l78uct</td>\n",
       "      <td>296778</td>\n",
       "      <td>0.98</td>\n",
       "      <td>23166</td>\n",
       "      <td>2021-01-28 21:06:23</td>\n",
       "      <td>https://i.redd.it/opzucppb15e61.png</td>\n",
       "      <td>False</td>\n",
       "      <td>wallstreetbets</td>\n",
       "    </tr>\n",
       "    <tr>\n",
       "      <th>3</th>\n",
       "      <td>GME YOLO month-end update — Jan 2021</td>\n",
       "      <td>l846a1</td>\n",
       "      <td>262028</td>\n",
       "      <td>0.97</td>\n",
       "      <td>20063</td>\n",
       "      <td>2021-01-29 21:04:45</td>\n",
       "      <td>https://i.redd.it/r557em3t5ce61.png</td>\n",
       "      <td>False</td>\n",
       "      <td>wallstreetbets</td>\n",
       "    </tr>\n",
       "    <tr>\n",
       "      <th>4</th>\n",
       "      <td>It’s treason then</td>\n",
       "      <td>l881ia</td>\n",
       "      <td>243637</td>\n",
       "      <td>0.98</td>\n",
       "      <td>4622</td>\n",
       "      <td>2021-01-29 23:40:59</td>\n",
       "      <td>https://i.redd.it/d3t66lv1yce61.jpg</td>\n",
       "      <td>False</td>\n",
       "      <td>wallstreetbets</td>\n",
       "    </tr>\n",
       "  </tbody>\n",
       "</table>\n",
       "</div>"
      ],
      "text/plain": [
       "                                     Post      ID   Score  Upvote Ratio  \\\n",
       "0                  Times Square right now  l8rf4k  479217          0.99   \n",
       "1  UPVOTE so everyone sees we got SUPPORT  l6wu59  335468          0.98   \n",
       "2           GME YOLO update — Jan 28 2021  l78uct  296778          0.98   \n",
       "3    GME YOLO month-end update — Jan 2021  l846a1  262028          0.97   \n",
       "4                       It’s treason then  l881ia  243637          0.98   \n",
       "\n",
       "   Total Comments           Created On                             Post URL  \\\n",
       "0           13884  2021-01-30 18:00:38      https://v.redd.it/x64z70f7eie61   \n",
       "1           12896  2021-01-28 13:40:34  https://i.redd.it/sgoqy8nyt2e61.png   \n",
       "2           23166  2021-01-28 21:06:23  https://i.redd.it/opzucppb15e61.png   \n",
       "3           20063  2021-01-29 21:04:45  https://i.redd.it/r557em3t5ce61.png   \n",
       "4            4622  2021-01-29 23:40:59  https://i.redd.it/d3t66lv1yce61.jpg   \n",
       "\n",
       "   Original Content       Subreddit  \n",
       "0             False  wallstreetbets  \n",
       "1             False  wallstreetbets  \n",
       "2             False  wallstreetbets  \n",
       "3             False  wallstreetbets  \n",
       "4             False  wallstreetbets  "
      ]
     },
     "execution_count": 173,
     "metadata": {},
     "output_type": "execute_result"
    }
   ],
   "source": [
    "df_wsb.head()"
   ]
  },
  {
   "cell_type": "code",
   "execution_count": 174,
   "metadata": {},
   "outputs": [
    {
     "name": "stdout",
     "output_type": "stream",
     "text": [
      "Robinhood and other brokers literally blocking purchase of $GME, $NOK, $BB, $AMC; allow sells. See title. Can't buy these stocks on RH, but can sell. What the hell is this?\n",
      "\n",
      "How is this legal?\n"
     ]
    }
   ],
   "source": [
    "entry = df_invt.loc[0, 'Post']\n",
    "print(entry)"
   ]
  },
  {
   "cell_type": "code",
   "execution_count": 175,
   "metadata": {},
   "outputs": [],
   "source": [
    "rtl_inv_df = pd.concat([df_wsb[['Post', 'Subreddit']], df_invt[['Post', 'Subreddit']]]).reset_index(drop = True)"
   ]
  },
  {
   "cell_type": "code",
   "execution_count": 176,
   "metadata": {},
   "outputs": [
    {
     "name": "stdout",
     "output_type": "stream",
     "text": [
      "<class 'pandas.core.frame.DataFrame'>\n",
      "RangeIndex: 1634 entries, 0 to 1633\n",
      "Data columns (total 2 columns):\n",
      " #   Column     Non-Null Count  Dtype \n",
      "---  ------     --------------  ----- \n",
      " 0   Post       1634 non-null   object\n",
      " 1   Subreddit  1634 non-null   object\n",
      "dtypes: object(2)\n",
      "memory usage: 25.7+ KB\n"
     ]
    }
   ],
   "source": [
    "rtl_inv_df.info()"
   ]
  },
  {
   "cell_type": "code",
   "execution_count": 177,
   "metadata": {},
   "outputs": [
    {
     "data": {
      "text/html": [
       "<div>\n",
       "<style scoped>\n",
       "    .dataframe tbody tr th:only-of-type {\n",
       "        vertical-align: middle;\n",
       "    }\n",
       "\n",
       "    .dataframe tbody tr th {\n",
       "        vertical-align: top;\n",
       "    }\n",
       "\n",
       "    .dataframe thead th {\n",
       "        text-align: right;\n",
       "    }\n",
       "</style>\n",
       "<table border=\"1\" class=\"dataframe\">\n",
       "  <thead>\n",
       "    <tr style=\"text-align: right;\">\n",
       "      <th></th>\n",
       "      <th>Post</th>\n",
       "      <th>Subreddit</th>\n",
       "    </tr>\n",
       "  </thead>\n",
       "  <tbody>\n",
       "    <tr>\n",
       "      <th>1629</th>\n",
       "      <td>Anyone know what is going on with Charles Schw...</td>\n",
       "      <td>investing</td>\n",
       "    </tr>\n",
       "    <tr>\n",
       "      <th>1630</th>\n",
       "      <td>Current value of a hypothetical $10k invested ...</td>\n",
       "      <td>investing</td>\n",
       "    </tr>\n",
       "    <tr>\n",
       "      <th>1631</th>\n",
       "      <td>If anything is priced in, why not just invest ...</td>\n",
       "      <td>investing</td>\n",
       "    </tr>\n",
       "    <tr>\n",
       "      <th>1632</th>\n",
       "      <td>I gave a startup $2k on \"Seed Invest\". Did I w...</td>\n",
       "      <td>investing</td>\n",
       "    </tr>\n",
       "    <tr>\n",
       "      <th>1633</th>\n",
       "      <td>Does anybody else feel like The Market Wizards...</td>\n",
       "      <td>investing</td>\n",
       "    </tr>\n",
       "  </tbody>\n",
       "</table>\n",
       "</div>"
      ],
      "text/plain": [
       "                                                   Post  Subreddit\n",
       "1629  Anyone know what is going on with Charles Schw...  investing\n",
       "1630  Current value of a hypothetical $10k invested ...  investing\n",
       "1631  If anything is priced in, why not just invest ...  investing\n",
       "1632  I gave a startup $2k on \"Seed Invest\". Did I w...  investing\n",
       "1633  Does anybody else feel like The Market Wizards...  investing"
      ]
     },
     "execution_count": 177,
     "metadata": {},
     "output_type": "execute_result"
    }
   ],
   "source": [
    "rtl_inv_df.tail()"
   ]
  },
  {
   "cell_type": "markdown",
   "metadata": {},
   "source": [
    "Retail Investor Dataframe is saved as rtl_inv_df, which we will be using for the rest of this work"
   ]
  },
  {
   "cell_type": "code",
   "execution_count": 178,
   "metadata": {},
   "outputs": [
    {
     "data": {
      "text/html": [
       "<div>\n",
       "<style scoped>\n",
       "    .dataframe tbody tr th:only-of-type {\n",
       "        vertical-align: middle;\n",
       "    }\n",
       "\n",
       "    .dataframe tbody tr th {\n",
       "        vertical-align: top;\n",
       "    }\n",
       "\n",
       "    .dataframe thead th {\n",
       "        text-align: right;\n",
       "    }\n",
       "</style>\n",
       "<table border=\"1\" class=\"dataframe\">\n",
       "  <thead>\n",
       "    <tr style=\"text-align: right;\">\n",
       "      <th></th>\n",
       "      <th>Post</th>\n",
       "    </tr>\n",
       "    <tr>\n",
       "      <th>Subreddit</th>\n",
       "      <th></th>\n",
       "    </tr>\n",
       "  </thead>\n",
       "  <tbody>\n",
       "    <tr>\n",
       "      <th>investing</th>\n",
       "      <td>694</td>\n",
       "    </tr>\n",
       "    <tr>\n",
       "      <th>wallstreetbets</th>\n",
       "      <td>940</td>\n",
       "    </tr>\n",
       "  </tbody>\n",
       "</table>\n",
       "</div>"
      ],
      "text/plain": [
       "                Post\n",
       "Subreddit           \n",
       "investing        694\n",
       "wallstreetbets   940"
      ]
     },
     "execution_count": 178,
     "metadata": {},
     "output_type": "execute_result"
    }
   ],
   "source": [
    "rtl_inv_df.groupby('Subreddit').count()"
   ]
  },
  {
   "cell_type": "code",
   "execution_count": 179,
   "metadata": {},
   "outputs": [
    {
     "data": {
      "text/plain": [
       "Yes    2\n",
       "Name: Post, dtype: int64"
      ]
     },
     "execution_count": 179,
     "metadata": {},
     "output_type": "execute_result"
    }
   ],
   "source": [
    "vc = rtl_inv_df['Post'].value_counts()\n",
    "vc[vc>1]"
   ]
  },
  {
   "cell_type": "code",
   "execution_count": 180,
   "metadata": {},
   "outputs": [
    {
     "name": "stdout",
     "output_type": "stream",
     "text": [
      "    Post       Subreddit\n",
      "827  Yes  wallstreetbets\n"
     ]
    }
   ],
   "source": [
    "print(rtl_inv_df[rtl_inv_df.duplicated()])"
   ]
  },
  {
   "cell_type": "code",
   "execution_count": 181,
   "metadata": {},
   "outputs": [],
   "source": [
    "rtl_inv_df = rtl_inv_df.drop_duplicates()"
   ]
  },
  {
   "cell_type": "code",
   "execution_count": 182,
   "metadata": {},
   "outputs": [
    {
     "name": "stdout",
     "output_type": "stream",
     "text": [
      "Empty DataFrame\n",
      "Columns: [Post, Subreddit]\n",
      "Index: []\n"
     ]
    }
   ],
   "source": [
    "print(rtl_inv_df[rtl_inv_df.duplicated()])"
   ]
  },
  {
   "cell_type": "markdown",
   "metadata": {},
   "source": [
    "Duplicated rows are now removed"
   ]
  },
  {
   "cell_type": "markdown",
   "metadata": {},
   "source": [
    "# Feature Engineering\n",
    "\n",
    "We will set the 'Subreddit' column into:\n",
    "\n",
    "0: r/investing\n",
    "1: r/wallstreetbets"
   ]
  },
  {
   "cell_type": "code",
   "execution_count": 183,
   "metadata": {},
   "outputs": [],
   "source": [
    "# Create a LabelEncoder object\n",
    "label_encoder = LabelEncoder()\n",
    "\n",
    "# Sieve out the columns which we want to apply label encoding on\n",
    "rtl_inv_df['Subreddit'] = label_encoder.fit_transform(rtl_inv_df['Subreddit'])"
   ]
  },
  {
   "cell_type": "code",
   "execution_count": 184,
   "metadata": {},
   "outputs": [],
   "source": [
    "# Creating a list extract all ticker symbols from stockmarket_df to\n",
    "\n",
    "ticker_list = stockmarket_df['Symbol'].tolist()"
   ]
  },
  {
   "cell_type": "markdown",
   "metadata": {},
   "source": [
    "# Extract Ticker Symbols"
   ]
  },
  {
   "cell_type": "markdown",
   "metadata": {},
   "source": [
    "r/wallstreetbets"
   ]
  },
  {
   "cell_type": "code",
   "execution_count": 185,
   "metadata": {},
   "outputs": [],
   "source": [
    "# Splitting the words from rtl_inv_df 'Post' to individual words\n",
    "\n",
    "wsb_words_collection = []\n",
    "\n",
    "for post in rtl_inv_df[rtl_inv_df['Subreddit'] == 1]['Post']:\n",
    "    word = post.split()\n",
    "    wsb_words_collection.append(word)"
   ]
  },
  {
   "cell_type": "code",
   "execution_count": 186,
   "metadata": {},
   "outputs": [],
   "source": [
    "# Stop words\n",
    "known_not_stocks = [\n",
    "\n",
    "    # Round 0\n",
    "    'I', 'I ', 'US', 'U.S.', 'A', 'CEO', 'WSB', 'ETF', 'SEC', 'IPO', 'THE', 'ETF',\n",
    "    'EV', 'COVID-19', 'TO', 'GDP', 'SPY', 'T', 'UNDERPERFORMS', 'YOLO', 'Q4',\n",
    "    'EBITDA', 'Q1', 'NOT', 'ARKK', 'FHLB', 'ARK', '\"I', 'S', 'USO', 'Q3', 'P/E',\n",
    "    'YOU', 'PRNHX:', 'AI', 'AUM', '5G',\n",
    "\n",
    "    # Round 1\n",
    "    'CNBC', 'HOLD', 'FOR', 'DFV', 'IS', 'OF', 'STILL', 'ARE', 'IF', 'IN', 'THIS', \n",
    "    'JUST', 'FROM', 'MY', 'LIKE', 'DO', 'FUCKING', 'THAN', 'WSB!', 'SELL!', 'CAN', \n",
    "    'GAMESTOP', 'WE', 'SO', 'ALL', 'NOW', 'BE', 'HAS', 'RH', 'DD', 'ON', 'D', 'BACK', \n",
    "    'SEE', 'AM', 'GO'\n",
    "]"
   ]
  },
  {
   "cell_type": "code",
   "execution_count": 187,
   "metadata": {},
   "outputs": [
    {
     "name": "stdout",
     "output_type": "stream",
     "text": [
      "['GME', 'GME', 'GME', 'GME', 'GME', 'GME', 'GME', 'GME', 'GME', 'GME', 'GME', 'GME', 'GME', 'GME', 'OR', 'GME', 'GME', 'GME', 'VS', 'GME', 'GME', 'GME', 'CUZ', 'GME', 'GME', 'GME', 'GME', 'GME', 'GME', 'GME', 'GME', 'GME', 'GME', 'ET', 'GME', 'GME', 'GME', 'REAL', 'GME', 'GME', 'GME', 'GME', 'LIFE', 'LIVE', 'AMC', 'GME', 'AKA', 'ME', 'GME', 'M', 'O', 'H', 'AMC', 'GME', 'GME', 'GME', 'GME', 'AMC', 'GME', 'GME', 'AMC', 'GME', 'GME', 'GME', 'GME', 'GME', 'SAY', 'GME', 'GME', 'AMC', 'BB', 'NOK', 'NFLX', 'GME', 'GME', 'META', 'GME', 'APP', 'GME', 'AMC', 'MIND', 'TSLA', 'MSM', 'AMC', 'META', 'RUN', 'IT', 'GME', 'BY', 'GME', 'GME', 'GME', 'GME', 'UK', 'GME', 'GME', 'GME', 'GME', 'GME', 'GME', 'GME', 'TSLA', 'GE', 'GME', 'GME', 'GME', 'AMC', 'GME', 'FL', 'PLTR', 'GME', 'AMC', 'GME', 'GME', 'TWO', 'OUT', 'UK', 'GME', 'HE', 'GME', 'AMC', 'GME', 'TSLA', 'GME', 'BIG', 'NEXT', 'BIG', 'GME', 'AMC', 'AMZN', 'GME', 'GME', 'GME', 'AMC', 'GME', 'GME', 'GME', 'GAIN', 'GME', 'AMZN', 'TSLA', 'GME', 'GME', 'GME', 'GME', 'GME', 'MARK', 'GME', 'GME', 'PLUS', 'GME', 'GME', 'GME', 'LOVE']\n"
     ]
    }
   ],
   "source": [
    "# Pull out words that are potentially could be ticker symbols of stocks \n",
    "\n",
    "wsb_potential_ticker = []\n",
    "for title in wsb_words_collection:\n",
    "    for word in title:\n",
    "        if word.isupper() and word in ticker_list and word not in known_not_stocks: \n",
    "        # if word.isupper() and word not in known_not_stocks and word in stockmarket_df['Symbol']: \n",
    "        # if word.startswith('$') and word[1:].isupper() and word not in known_not_stocks:    \n",
    "            wsb_potential_ticker.append(word)\n",
    "\n",
    "print(wsb_potential_ticker)"
   ]
  },
  {
   "cell_type": "code",
   "execution_count": 188,
   "metadata": {},
   "outputs": [],
   "source": [
    "# Arranging the most ticker symbols based on the number of its occurence\n",
    "\n",
    "wsb_potential_ticker_df = pd.DataFrame(wsb_potential_ticker, columns = ['potential_word'])\n",
    "wsb_word_counts = wsb_potential_ticker_df['potential_word'].value_counts()\n",
    "wsb_word_counts_df = wsb_word_counts.reset_index()\n",
    "wsb_word_counts_df.columns = ['word', 'count']\n",
    "wsb_top6 = wsb_word_counts_df.head(6)"
   ]
  },
  {
   "cell_type": "markdown",
   "metadata": {},
   "source": [
    "r/investing"
   ]
  },
  {
   "cell_type": "code",
   "execution_count": 189,
   "metadata": {},
   "outputs": [],
   "source": [
    "# Splitting the words from rtl_inv_df 'Post' to individual words\n",
    "\n",
    "invt_words_collection = []\n",
    "\n",
    "for post in rtl_inv_df[rtl_inv_df['Subreddit'] == 0]['Post']:\n",
    "    word = post.split()\n",
    "    invt_words_collection.append(word)"
   ]
  },
  {
   "cell_type": "code",
   "execution_count": 190,
   "metadata": {},
   "outputs": [
    {
     "name": "stdout",
     "output_type": "stream",
     "text": [
      "['GME', 'GME', 'GME', 'GME', 'TD', 'GME', 'TD', 'ELSE', 'ANY', 'GME', 'GME', 'BRK/A', 'GME', 'GME', 'TV', 'PSA', 'DM', 'DM', 'GME', 'GME', 'GME', 'GME', 'GME', 'GME', 'GME', 'GME', 'GME', 'GME', 'GME', 'GME', 'TD', 'GME', 'GME', 'GME', 'GME', 'GME', 'JPM', 'JPM', 'BNY', 'JPM', 'GME', 'GME', 'GME', 'GME', 'GME', 'GME', 'GME', 'GME', 'IT', 'IT', 'GME', 'BB', 'PLTR', 'BABA', 'PLTR', 'XOM', 'GM', 'PLTR', 'GME', 'GME', 'NIO', 'AMC', 'SQ', 'SQ', 'MSCI', 'CD', 'MSCI', 'MSCI', 'MSCI', 'MSFT', 'PLTR', 'DKNG', 'GME', 'GME', 'X', 'BNY', 'BNY', 'IRS', 'IRS', 'CG', 'CG', 'RIOT', 'RIOT', 'MARA', 'IP', 'RIOT', 'RIOT', 'MARA', 'RIOT', 'MARA', 'RIOT', 'MARA', 'RIOT', 'MARA', 'VERY', 'RIOT', 'MARA', 'RIOT', 'MARA', 'RIOT', 'RIOT', 'MARA', 'MARA', 'RIOT', 'RIOT', 'MARA', 'RIOT', 'MARA', 'MARA', 'MARA', 'MARA', 'RIOT', 'DTE', 'RIOT', 'BABA', 'BABA', 'BABA', 'BABA', 'BABA', 'JD', 'NIO', 'IQ', 'SB', 'SB', 'LUV', 'AKA', 'BP', 'IBM', 'FCF', 'FCF', 'FCF', 'EA', 'WY', 'MSFT', 'REAL', 'KEY', 'LPL', 'LPL', 'JPM', 'BABA', 'M', 'M', 'M', 'WTI', 'RBC', 'WTI', 'WTI', 'WTI', 'CME', 'MGM', 'MGM', 'MGM', 'MGM', 'UK', 'UK', 'SAFE', 'DCF', 'MRNA', 'PSA', 'CMP', 'MSCI', 'AB', 'AB', 'AB', 'AB', 'AB', 'AG', 'TSLA', 'TSLA', 'SNAP', 'GME', 'REAL', 'REAL', 'REAL', 'WIX', 'CVS', 'BP', 'BP', 'TSLA', 'TSLA', 'TSLA', 'USA', 'BC', 'B', 'NYT', 'UK', 'TSLA', 'TSLA', 'TSLA', 'TSLA', 'TSLA', 'TSLA', 'TSLA', 'TSLA', 'TSLA', 'TSLA', 'NIO', 'TSLA', 'TSLA', 'TSLA', 'TSLA', 'TSLA', 'TSLA', 'TSLA', 'TSLA', 'DOW', 'VFF', 'TLRY', 'GME', 'AN', 'IT', 'ME', 'PAY', 'IT', 'AN', 'F', 'G', 'X', 'J', 'K', 'GME', 'M', 'GME', 'GME', 'ETSY', 'TER', 'COTY', 'KSS', 'PBF', 'WING', 'PBF', 'ATI', 'JAZZ', 'RIG', 'RCM', 'COOP', 'RCM', 'EXPR', 'ADP', 'ADP', 'FOX', 'FOX', 'GM', 'TV', 'BYND', 'CMPS', 'MNMD', 'ATAI', 'COO', 'GM', 'GM', 'IP', 'GM', 'GM', 'AMC', 'CRSP', 'CRSP', 'CRSP', 'CRSP', 'BEAM', 'GME', 'PAY', 'VIEW', 'KIND', 'UK', 'UK', 'GME', 'AMD', 'VERY', 'B', 'B', 'B', 'META', 'META', 'AMD', 'MSD', 'MSD', 'FTFT', 'FTFT', 'NRC', 'NRC', 'FTFT', 'FTFT', 'FTFT', 'FT', 'FTFT', 'FTFT', 'FTFT', 'TSLA', 'CRM', 'NI', 'DCF', 'GS', 'SPOT', 'UBS', 'UBS', 'UBS', 'LYFT', 'GM', 'GM', 'GM', 'TSLA', 'NIO', 'LI', 'XPEV', 'GM', 'B', 'AAPL', 'GOOGL', 'OP', 'UK', 'UK', 'UK', 'LDI', 'K', 'K', 'THC', 'CP', 'CP', 'CP', 'G', 'CMA', 'IBM', 'IBM', 'AMC', 'AMC', 'AMC', 'GME', 'GME', 'BB', 'UBER', 'K', 'K', 'K', 'K', 'K', 'K', 'K', 'K', 'K', 'K', 'AG', 'NVDA', 'FT', 'FT', 'FT', 'DOW', 'PM', 'VC', 'JD', 'DTC', 'ABC', 'ABC', 'CD', 'IP', 'TXN', 'OP', 'PLTR', 'PENN', 'PENN', 'PENN', 'SP', 'CP', 'CD', 'FNB', 'UBS', 'USA', 'BB', 'BB', 'IT', 'BB', 'GM', 'BB', 'BB', 'XOM', 'CVX', 'AG', 'BP', 'PLTR', 'MSFT', 'MSFT', 'MSFT', 'OXY', 'CVX', 'WTI', 'WTI', 'CME', 'CME', 'WTI', 'ABC', 'ABC', 'ABC', 'ABC', 'NKLA', 'ABC', 'ABC', 'UK', 'X', 'AMD', 'AMD', 'AMD', 'AMD', 'PLTR', 'UBER', 'UBER', 'UBER', 'UBER', 'UBER', 'UBER', 'UBER', 'UBER', 'BN', 'UBER', 'UBER', 'UBER', 'UBER', 'UP', 'UBER', 'UBER', 'UBER', 'UBER', 'UBER', 'UBER', 'AMD', 'AMD', 'AMD', 'AMD', 'AMD', 'INTC', 'AMD', 'AMD', 'AAPL', 'AMD', 'KEY', 'NOK', 'NOK', 'NOK', 'FCF', 'EOD', 'GME', 'GME', 'MT', 'TS', 'HSBC', 'COIN', 'HSBC', 'X', 'FF', 'AMD', 'NVDA', 'PR', 'DOW', 'EDIT', 'OP', 'GME', 'GME', 'GM', 'GM', 'GM', 'SA', 'COIN', 'COIN', 'SA', 'SNOW', 'COIN', 'COIN', 'DASH', 'BMBL', 'WISH', 'CPNG', 'OPEN', 'ABNB', 'AFRM', 'LYFT', 'UBER', 'PINS', 'SNAP', 'SA', 'META', 'EA', 'PR', 'TSLA', 'PTRA', 'PT', 'UBS', 'CRSP', 'AAPL', 'TSLA', 'GOOGL', 'TSLA', 'TSLA', 'TSLA', 'GM', 'GM', 'GM', 'GM', 'BP', 'BP', 'GM', 'GM', 'GM', 'GM', 'GM', 'GM', 'GM', 'GM', 'GM', 'TSLA', 'PLTR', 'NVDA', 'TSM', 'NVDA', 'TSM', 'ASML', 'INTC', 'NVDA', 'NVDA', 'MSCI', 'SSL', 'GOOG', 'TSLA', 'NFLX', 'AMZN', 'USA', 'TSLA', 'TSLA', 'AMZN', 'AMZN', 'AMZN', 'AMZN', 'TSLA', 'TSLA', 'AMZN', 'AMZN', 'AMZN', 'AMZN', 'TSLA', 'TSLA', 'TSLA', 'TSLA', 'DCF', 'AMZN', 'TSLA', 'TSLA', 'GS', 'TSLA', 'DCF', 'AMZN', 'TSLA', 'TSLA', 'DCF', 'DCF', 'DCF', 'TSLA', 'TSLA', 'TSLA', 'TSLA', 'B', 'TSLA', 'SG', 'TSLA', 'AMZN', 'AAPL', 'BYD', 'HSBC', 'API', 'GOOD', 'HOPE', 'PEG', 'IHS', 'DGHI', 'LYFT', 'NVDA', 'LRCX', 'SA', 'L', 'GOOD', 'DTC', 'DTC', 'TV', 'TV', 'ABC', 'PR', 'PR', 'PR', 'VS']\n"
     ]
    }
   ],
   "source": [
    "# Pull out words that are potentially could be ticker symbols of stocks \n",
    "\n",
    "invt_potential_ticker = []\n",
    "for title in invt_words_collection:\n",
    "    for word in title:\n",
    "        if word.isupper() and word in ticker_list and word not in known_not_stocks: \n",
    "        # if word.isupper() and word not in known_not_stocks and word in stockmarket_df['Symbol']: \n",
    "        # if word.startswith('$') and word[1:].isupper() and word not in known_not_stocks:    \n",
    "            invt_potential_ticker.append(word)\n",
    "\n",
    "print(invt_potential_ticker)"
   ]
  },
  {
   "cell_type": "code",
   "execution_count": 191,
   "metadata": {},
   "outputs": [],
   "source": [
    "# Arranging the most ticker symbols based on the number of its occurence\n",
    "\n",
    "invt_potential_ticker_df = pd.DataFrame(invt_potential_ticker, columns = ['potential_word'])\n",
    "invt_word_counts = invt_potential_ticker_df['potential_word'].value_counts()\n",
    "invt_word_counts_df = invt_word_counts.reset_index()\n",
    "invt_word_counts_df.columns = ['word', 'count']\n",
    "invt_top6 = invt_word_counts_df.head(6)"
   ]
  },
  {
   "cell_type": "code",
   "execution_count": 192,
   "metadata": {},
   "outputs": [
    {
     "data": {
      "text/plain": [
       "<function matplotlib.pyplot.show(close=None, block=None)>"
      ]
     },
     "execution_count": 192,
     "metadata": {},
     "output_type": "execute_result"
    },
    {
     "data": {
      "image/png": "[encoded data removed]",
      "text/plain": [
       "<Figure size 1200x1000 with 2 Axes>"
      ]
     },
     "metadata": {},
     "output_type": "display_data"
    }
   ],
   "source": [
    "# Plot a horizontal bar chart for \n",
    "\n",
    "fig, (ax_wsb, ax_invt) = plt.subplots(nrows = 1, ncols = 2, figsize = (12,10))\n",
    "\n",
    "# Plotting bar chart for r/wallstreetbets\n",
    "sns.barplot(data = wsb_top6, y = 'word', x = 'count', ax = ax_wsb)\n",
    "\n",
    "# Plotting bar chart for r/investing\n",
    "sns.barplot(data = invt_top6, y = 'word', x = 'count',  ax = ax_invt)\n",
    "\n",
    "ax_wsb.set(title = 'Top ticker symbol for r/wallstreetbets')\n",
    "ax_invt.set(title = 'Top ticker symbol for r/investing')\n",
    "\n",
    "plt.tight_layout()\n",
    "\n",
    "plt.show"
   ]
  },
  {
   "cell_type": "markdown",
   "metadata": {},
   "source": [
    "### With this, we will be choosing the top 4 stocks from each subreddits there are overlaps of GME and TSLA for both subreddit, we will then choose the subsequent top 4 of r/investing. As such, below are the stocks that we will be taking a deeper look at\n",
    "\n",
    "r/wallstreetbets:\n",
    "1. GME\n",
    "2. AMC\n",
    "3. TSLA\n",
    "4. META\n",
    "\n",
    "r/investing:\n",
    "1. GM\n",
    "2. UBER\n",
    "3. RIOT\n",
    "4. AMD"
   ]
  }
 ],
 "metadata": {
  "kernelspec": {
   "display_name": "Python 3 (ipykernel)",
   "language": "python",
   "name": "python3"
  },
  "language_info": {
   "codemirror_mode": {
    "name": "ipython",
    "version": 3
   },
   "file_extension": ".py",
   "mimetype": "text/x-python",
   "name": "python",
   "nbconvert_exporter": "python",
   "pygments_lexer": "ipython3",
   "version": "3.10.9"
  }
 },
 "nbformat": 4,
 "nbformat_minor": 2
}
